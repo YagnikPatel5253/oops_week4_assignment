{
 "cells": [
  {
   "cell_type": "code",
   "execution_count": 15,
   "id": "158a0458-ab48-4ee1-8e0b-232964ae1f1e",
   "metadata": {},
   "outputs": [],
   "source": [
    "#Question 1\n",
    "\n",
    "class vehicle:\n",
    "    def __init__(self, name_of_vehicle, max_speed, average_of_vehicle):\n",
    "        self.name_of_vehicle = name_of_vehicle\n",
    "        self.max_speed = max_speed\n",
    "        self.average_of_vehicle = average_of_vehicle"
   ]
  },
  {
   "cell_type": "code",
   "execution_count": 24,
   "id": "e19b61b3-55bd-4da0-93c9-8697641a9f6c",
   "metadata": {},
   "outputs": [
    {
     "name": "stdout",
     "output_type": "stream",
     "text": [
      "audi has a seating capacity of 2.\n"
     ]
    }
   ],
   "source": [
    "#Question 2\n",
    "\n",
    "class car(vehicle):\n",
    "    def seating_capacity(self, capacity):\n",
    "        return f\"{self.name_of_vehicle} has a seating capacity of {capacity}.\"\n",
    "\n",
    "\n",
    "Carr = car(\"audi\", 200, 40)\n",
    "print(Carr.seating_capacity(2)) "
   ]
  },
  {
   "cell_type": "code",
   "execution_count": 25,
   "id": "e018585b-b2b5-4fe4-8d4c-439a029b7bc8",
   "metadata": {},
   "outputs": [],
   "source": [
    "#Question 3\n",
    "#Multiple inheritance is a feature in object-oriented programming where a class can inherit,\n",
    "#attributes and methods from multiple parent classes.\n",
    "class method1:\n",
    "    def test_method1(self):\n",
    "        print(\"This is the method1\")\n",
    "\n",
    "class method2:\n",
    "    def test_method2(self):\n",
    "        print(\"This is the method2\")\n",
    "\n",
    "class method3(method1, method2):\n",
    "    pass"
   ]
  },
  {
   "cell_type": "code",
   "execution_count": 26,
   "id": "e27fad46-88bd-49a7-9efe-c06b8ca674b9",
   "metadata": {},
   "outputs": [],
   "source": [
    "x = method3()"
   ]
  },
  {
   "cell_type": "code",
   "execution_count": 28,
   "id": "dc341751-1707-4c37-ad3f-6259cb250f24",
   "metadata": {},
   "outputs": [
    {
     "name": "stdout",
     "output_type": "stream",
     "text": [
      "This is the method1\n"
     ]
    }
   ],
   "source": [
    "x.test_method1()"
   ]
  },
  {
   "cell_type": "code",
   "execution_count": 29,
   "id": "6a78f9fe-dd0b-4709-8eb6-d839f50ccbcb",
   "metadata": {},
   "outputs": [
    {
     "name": "stdout",
     "output_type": "stream",
     "text": [
      "This is the method2\n"
     ]
    }
   ],
   "source": [
    "x.test_method2()"
   ]
  },
  {
   "cell_type": "code",
   "execution_count": 48,
   "id": "b242a335-5ba5-4274-8c12-0b34d06325c8",
   "metadata": {},
   "outputs": [
    {
     "name": "stdout",
     "output_type": "stream",
     "text": [
      "YAGNIK\n",
      "Vidhi\n"
     ]
    }
   ],
   "source": [
    "#Question 4\n",
    "#getter = A getter is a method that retrieves or accesses the value of an attribute.\n",
    "#setter = A setter is a method that modifies or updates the value of an attribute.\n",
    "\n",
    "class person_name:\n",
    "    def __init__(self, name):\n",
    "        self._name = name\n",
    "\n",
    "    def get_name(self):\n",
    "        return self._name\n",
    "\n",
    "    def set_name(self, name):\n",
    "        self._name = name\n",
    "\n",
    "person = person_name(\"YAGNIK\")\n",
    "\n",
    "#get name\n",
    "print(person.get_name())  \n",
    "\n",
    "#set name\n",
    "person.set_name(\"Vidhi\")\n",
    "print(person.get_name())"
   ]
  },
  {
   "cell_type": "code",
   "execution_count": 76,
   "id": "7b2acd11-fea0-46de-80f3-ae4edc8e46e4",
   "metadata": {},
   "outputs": [],
   "source": [
    "#Question 5\n",
    "#overriding is when a child class provides its own implementation of a method inherited from the parent class.\n",
    "class a1:\n",
    "    def student_of_a1(self):\n",
    "        return \"this is the student of a1\"\n",
    "\n",
    "class a2(a1):\n",
    "    def student_of_a2(self):\n",
    "        return \"this is the student of a2\"\n",
    "class a3(a2):\n",
    "    pass"
   ]
  },
  {
   "cell_type": "code",
   "execution_count": 78,
   "id": "f59146c2-7b0f-4569-a172-9713089b26bb",
   "metadata": {},
   "outputs": [],
   "source": [
    "object_of_student = a3()"
   ]
  },
  {
   "cell_type": "code",
   "execution_count": 79,
   "id": "3b69db60-480b-42cc-a62e-0e6cc0fb8778",
   "metadata": {},
   "outputs": [
    {
     "data": {
      "text/plain": [
       "'this is the student of a1'"
      ]
     },
     "execution_count": 79,
     "metadata": {},
     "output_type": "execute_result"
    }
   ],
   "source": [
    "object_of_student.student_of_a1()"
   ]
  },
  {
   "cell_type": "code",
   "execution_count": null,
   "id": "321362d6-f1d3-47ec-8be0-59db21a6c6ce",
   "metadata": {},
   "outputs": [],
   "source": [
    "object_of_student."
   ]
  }
 ],
 "metadata": {
  "kernelspec": {
   "display_name": "Python 3 (ipykernel)",
   "language": "python",
   "name": "python3"
  },
  "language_info": {
   "codemirror_mode": {
    "name": "ipython",
    "version": 3
   },
   "file_extension": ".py",
   "mimetype": "text/x-python",
   "name": "python",
   "nbconvert_exporter": "python",
   "pygments_lexer": "ipython3",
   "version": "3.10.8"
  }
 },
 "nbformat": 4,
 "nbformat_minor": 5
}
